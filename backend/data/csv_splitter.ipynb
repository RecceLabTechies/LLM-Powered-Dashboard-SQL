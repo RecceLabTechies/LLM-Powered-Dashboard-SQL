{
 "cells": [
  {
   "cell_type": "markdown",
   "metadata": {},
   "source": [
    "# CSV Splitter\n",
    "\n",
    "- For uploading into Github and sharing"
   ]
  },
  {
   "cell_type": "code",
   "execution_count": 4,
   "metadata": {},
   "outputs": [],
   "source": [
    "!source ../venv/bin/activate\n",
    "# !pip install -r ../requirements.txt"
   ]
  },
  {
   "cell_type": "code",
   "execution_count": 3,
   "metadata": {},
   "outputs": [],
   "source": [
    "import os\n",
    "import pandas as pd\n",
    "from math import ceil"
   ]
  },
  {
   "cell_type": "code",
   "execution_count": 5,
   "metadata": {},
   "outputs": [],
   "source": [
    "def split_csv(input_file, output_prefix, max_size_mb=4):\n",
    "    \"\"\"\n",
    "    Split a CSV file into chunks of approximately max_size_mb each.\n",
    "\n",
    "    Args:\n",
    "        input_file (str): Path to input CSV file\n",
    "        output_prefix (str): Prefix for output files\n",
    "        max_size_mb (float): Maximum size of each chunk in MB\n",
    "    \"\"\"\n",
    "    # Convert MB to bytes\n",
    "    max_size_bytes = max_size_mb * 1024 * 1024\n",
    "\n",
    "    # Get the total size of the input file\n",
    "    file_size = os.path.getsize(input_file)\n",
    "\n",
    "    if file_size <= max_size_bytes:\n",
    "        print(\n",
    "            f\"File size ({file_size / 1024 / 1024:.2f} MB) is less than or equal to {max_size_mb} MB. No splitting needed.\"\n",
    "        )\n",
    "        return\n",
    "\n",
    "    # Calculate approximate number of chunks needed\n",
    "    num_chunks = ceil(file_size / max_size_bytes)\n",
    "\n",
    "    # Read the CSV file\n",
    "    df = pd.read_csv(input_file)\n",
    "    total_rows = len(df)\n",
    "\n",
    "    # Calculate approximate rows per chunk\n",
    "    rows_per_chunk = ceil(total_rows / num_chunks)\n",
    "\n",
    "    # Split the dataframe and save chunks\n",
    "    for i in range(0, total_rows, rows_per_chunk):\n",
    "        chunk = df.iloc[i : i + rows_per_chunk]\n",
    "        chunk_number = i // rows_per_chunk + 1\n",
    "        output_file = f\"{output_prefix}_{chunk_number}.csv\"\n",
    "        chunk.to_csv(output_file, index=False)\n",
    "        chunk_size = os.path.getsize(output_file) / 1024 / 1024\n",
    "        print(f\"Created {output_file} ({chunk_size:.2f} MB)\")"
   ]
  },
  {
   "cell_type": "code",
   "execution_count": 9,
   "metadata": {},
   "outputs": [
    {
     "name": "stdout",
     "output_type": "stream",
     "text": [
      "Created final_mock_data_1.csv (2.62 MB)\n",
      "Created final_mock_data_2.csv (2.70 MB)\n",
      "Created final_mock_data_3.csv (2.78 MB)\n"
     ]
    }
   ],
   "source": [
    "split_csv(\"final_mock_data.csv\", \"final_mock_data\")"
   ]
  }
 ],
 "metadata": {
  "kernelspec": {
   "display_name": "Python 3",
   "language": "python",
   "name": "python3"
  },
  "language_info": {
   "codemirror_mode": {
    "name": "ipython",
    "version": 3
   },
   "file_extension": ".py",
   "mimetype": "text/x-python",
   "name": "python",
   "nbconvert_exporter": "python",
   "pygments_lexer": "ipython3",
   "version": "3.11.8"
  }
 },
 "nbformat": 4,
 "nbformat_minor": 2
}
