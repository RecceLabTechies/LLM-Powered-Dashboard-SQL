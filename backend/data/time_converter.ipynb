{
 "cells": [
  {
   "cell_type": "code",
   "execution_count": 1,
   "metadata": {},
   "outputs": [],
   "source": [
    "import pandas as pd\n",
    "import datetime\n",
    "import time\n",
    "import os"
   ]
  },
  {
   "cell_type": "code",
   "execution_count": 2,
   "metadata": {},
   "outputs": [],
   "source": [
    "def convert_to_unix_timestamp(date_str):\n",
    "    \"\"\"\n",
    "    Convert a date string in format 'YYYY-MM-DD' to Unix timestamp (seconds since epoch)\n",
    "    \"\"\"\n",
    "    try:\n",
    "        # Parse the date string\n",
    "        dt = datetime.datetime.strptime(date_str, \"%Y-%m-%d\")\n",
    "        # Convert to Unix timestamp (seconds since epoch)\n",
    "        unix_timestamp = int(time.mktime(dt.timetuple()))\n",
    "        return unix_timestamp\n",
    "    except (ValueError, TypeError):\n",
    "        # Return original value if conversion fails\n",
    "        return date_str"
   ]
  },
  {
   "cell_type": "code",
   "execution_count": 3,
   "metadata": {},
   "outputs": [],
   "source": [
    "def convert_csv_dates(input_file, date_column):\n",
    "    \"\"\"\n",
    "    Load a CSV file, convert dates in the specified column to Unix timestamps,\n",
    "    and return the modified DataFrame\n",
    "    \"\"\"\n",
    "    # Load the CSV file\n",
    "    try:\n",
    "        df = pd.read_csv(input_file)\n",
    "\n",
    "        # Check if the specified column exists\n",
    "        if date_column not in df.columns:\n",
    "            print(f\"Error: Column '{date_column}' not found in the CSV file.\")\n",
    "            print(f\"Available columns: {', '.join(df.columns)}\")\n",
    "            return None\n",
    "\n",
    "        # Convert the date column to Unix timestamps\n",
    "        df[date_column] = df[date_column].apply(convert_to_unix_timestamp)\n",
    "\n",
    "        return df\n",
    "\n",
    "    except Exception as e:\n",
    "        print(f\"Error: {e}\")\n",
    "        return None"
   ]
  },
  {
   "cell_type": "code",
   "execution_count": 5,
   "metadata": {},
   "outputs": [
    {
     "name": "stdout",
     "output_type": "stream",
     "text": [
      "\n",
      "First 5 rows of the converted DataFrame:\n"
     ]
    },
    {
     "data": {
      "text/html": [
       "<div>\n",
       "<style scoped>\n",
       "    .dataframe tbody tr th:only-of-type {\n",
       "        vertical-align: middle;\n",
       "    }\n",
       "\n",
       "    .dataframe tbody tr th {\n",
       "        vertical-align: top;\n",
       "    }\n",
       "\n",
       "    .dataframe thead th {\n",
       "        text-align: right;\n",
       "    }\n",
       "</style>\n",
       "<table border=\"1\" class=\"dataframe\">\n",
       "  <thead>\n",
       "    <tr style=\"text-align: right;\">\n",
       "      <th></th>\n",
       "      <th>ds</th>\n",
       "      <th>revenue</th>\n",
       "      <th>ad_spend</th>\n",
       "      <th>new_accounts</th>\n",
       "    </tr>\n",
       "  </thead>\n",
       "  <tbody>\n",
       "    <tr>\n",
       "      <th>0</th>\n",
       "      <td>1730304000</td>\n",
       "      <td>1.259198e+06</td>\n",
       "      <td>866928.919759</td>\n",
       "      <td>111816.770554</td>\n",
       "    </tr>\n",
       "    <tr>\n",
       "      <th>1</th>\n",
       "      <td>1732896000</td>\n",
       "      <td>7.748638e+05</td>\n",
       "      <td>634793.192563</td>\n",
       "      <td>68807.906119</td>\n",
       "    </tr>\n",
       "    <tr>\n",
       "      <th>2</th>\n",
       "      <td>1735574400</td>\n",
       "      <td>4.180313e+05</td>\n",
       "      <td>301374.919898</td>\n",
       "      <td>37121.183824</td>\n",
       "    </tr>\n",
       "    <tr>\n",
       "      <th>3</th>\n",
       "      <td>1738252800</td>\n",
       "      <td>1.109785e+06</td>\n",
       "      <td>800661.952500</td>\n",
       "      <td>98548.938869</td>\n",
       "    </tr>\n",
       "  </tbody>\n",
       "</table>\n",
       "</div>"
      ],
      "text/plain": [
       "           ds       revenue       ad_spend   new_accounts\n",
       "0  1730304000  1.259198e+06  866928.919759  111816.770554\n",
       "1  1732896000  7.748638e+05  634793.192563   68807.906119\n",
       "2  1735574400  4.180313e+05  301374.919898   37121.183824\n",
       "3  1738252800  1.109785e+06  800661.952500   98548.938869"
      ]
     },
     "metadata": {},
     "output_type": "display_data"
    },
    {
     "name": "stdout",
     "output_type": "stream",
     "text": [
      "\n",
      "Converted data saved to: prophet_prediction_data_unix.csv\n"
     ]
    }
   ],
   "source": [
    "# Get user input\n",
    "input_file = \"prophet_prediction_data.csv\"\n",
    "date_column = \"ds\"\n",
    "\n",
    "# Convert the dates\n",
    "converted_df = convert_csv_dates(input_file, date_column)\n",
    "\n",
    "if converted_df is not None:\n",
    "    # Display the first few rows of the converted DataFrame\n",
    "    print(\"\\nFirst 5 rows of the converted DataFrame:\")\n",
    "    display(converted_df.head())\n",
    "\n",
    "    # Ask if user wants to save the converted data\n",
    "    save_option = input(\"\\nDo you want to save the converted data? (yes/no): \").lower()\n",
    "\n",
    "    if save_option in [\"yes\", \"y\"]:\n",
    "        # Generate output filename\n",
    "        file_name, file_ext = os.path.splitext(input_file)\n",
    "        output_file = f\"{file_name}_unix{file_ext}\"\n",
    "\n",
    "        # Save the converted DataFrame\n",
    "        converted_df.to_csv(output_file, index=False)\n",
    "        print(f\"\\nConverted data saved to: {output_file}\")"
   ]
  }
 ],
 "metadata": {
  "kernelspec": {
   "display_name": "reccelabs",
   "language": "python",
   "name": "python3"
  },
  "language_info": {
   "codemirror_mode": {
    "name": "ipython",
    "version": 3
   },
   "file_extension": ".py",
   "mimetype": "text/x-python",
   "name": "python",
   "nbconvert_exporter": "python",
   "pygments_lexer": "ipython3",
   "version": "3.12.9"
  }
 },
 "nbformat": 4,
 "nbformat_minor": 2
}
